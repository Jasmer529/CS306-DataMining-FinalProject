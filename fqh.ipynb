{
 "cells": [
  {
   "cell_type": "code",
   "execution_count": 13,
   "outputs": [
    {
     "name": "stdout",
     "output_type": "stream",
     "text": [
      "为用户 100 推荐的商品：\n",
      "item_id\n",
      "81         0.0\n",
      "3445563    0.0\n",
      "3446521    0.0\n",
      "3446518    0.0\n",
      "3446108    0.0\n",
      "3445810    0.0\n",
      "3445773    0.0\n",
      "3445670    0.0\n",
      "3445545    0.0\n",
      "3451377    0.0\n",
      "dtype: float64\n"
     ]
    }
   ],
   "source": [
    "# 安装依赖（如果未安装）\n",
    "\n",
    "\n",
    "# 1. 加载数据\n",
    "import pandas as pd\n",
    "\n",
    "# 读取行为数据\n",
    "file_path = 'filtered_data.csv'  # 替换为你的路径\n",
    "df = pd.read_csv(file_path)\n",
    "# 只保留必要的列\n",
    "df = df[['user_id', 'item_id','category_id', 'behavior_type']]\n",
    "df=df.head(1000000)  # 仅使用前100万条数据进行测试\n",
    "\n",
    "# 2. 筛选购买行为\n",
    "df_buy = df[df['behavior_type'] == 'buy']\n",
    "\n",
    "# 3. 构建用户-商品矩阵（隐式反馈，值设为1）\n",
    "# 构建用户-商品的交互矩阵（值为购买次数）\n",
    "user_item_counts = df_buy.groupby(['user_id', 'item_id']).size().unstack(fill_value=0)\n",
    "user_item_matrix = user_item_counts\n",
    "\n",
    "\n",
    "# 4. 计算用户之间的相似度（余弦相似度）\n",
    "from sklearn.metrics.pairwise import cosine_similarity\n",
    "import numpy as np\n",
    "\n",
    "user_sim_matrix = cosine_similarity(user_item_matrix)\n",
    "user_sim_df = pd.DataFrame(user_sim_matrix, index=user_item_matrix.index, columns=user_item_matrix.index)\n",
    "\n",
    "# 5. 推荐函数：为某个用户推荐N个商品\n",
    "def recommend_items(user_id, user_item_matrix, user_sim_df, top_n=10):\n",
    "    if user_id not in user_item_matrix.index:\n",
    "        print(\"用户不存在\")\n",
    "        return []\n",
    "\n",
    "    # 获取该用户对物品的互动（购买）\n",
    "    user_vector = user_item_matrix.loc[user_id]\n",
    "    similar_users = user_sim_df[user_id].drop(user_id).sort_values(ascending=False)\n",
    "\n",
    "    # 计算推荐得分：加权平均其他相似用户的评分\n",
    "    scores = pd.Series(0, index=user_item_matrix.columns)\n",
    "    for sim_user_id, similarity in similar_users.items():\n",
    "        scores += similarity * user_item_matrix.loc[sim_user_id]\n",
    "    \n",
    "    # 去除已购买过的商品\n",
    "    already_bought = user_vector[user_vector > 0].index\n",
    "    scores = scores.drop(labels=already_bought)\n",
    "\n",
    "    # 返回得分最高的N个商品\n",
    "    return scores.sort_values(ascending=False).head(top_n)\n",
    "\n",
    "# 6. 示例推荐\n",
    "example_user = user_item_matrix.index[0]  # 任选一个用户ID\n",
    "recommendations = recommend_items(example_user, user_item_matrix, user_sim_df, top_n=10)\n",
    "\n",
    "print(f\"为用户 {example_user} 推荐的商品：\")\n",
    "print(recommendations)\n"
   ],
   "metadata": {
    "collapsed": false,
    "ExecuteTime": {
     "end_time": "2025-05-31T05:38:29.675253700Z",
     "start_time": "2025-05-31T05:38:19.370314500Z"
    }
   },
   "id": "49f5235c1befedd3"
  }
 ],
 "metadata": {
  "kernelspec": {
   "display_name": "Python 3",
   "language": "python",
   "name": "python3"
  },
  "language_info": {
   "codemirror_mode": {
    "name": "ipython",
    "version": 2
   },
   "file_extension": ".py",
   "mimetype": "text/x-python",
   "name": "python",
   "nbconvert_exporter": "python",
   "pygments_lexer": "ipython2",
   "version": "2.7.6"
  }
 },
 "nbformat": 4,
 "nbformat_minor": 5
}
