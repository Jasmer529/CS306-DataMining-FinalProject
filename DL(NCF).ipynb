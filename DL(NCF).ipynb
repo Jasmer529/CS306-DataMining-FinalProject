{
 "cells": [
  {
   "cell_type": "code",
   "execution_count": 1,
   "id": "initial_id",
   "metadata": {
    "collapsed": true,
    "ExecuteTime": {
     "end_time": "2025-05-31T06:13:19.094038Z",
     "start_time": "2025-05-31T06:12:45.990206400Z"
    }
   },
   "outputs": [
    {
     "name": "stderr",
     "output_type": "stream",
     "text": [
      "Epoch 1: 100%|██████████| 165/165 [00:04<00:00, 36.88it/s]\n"
     ]
    },
    {
     "name": "stdout",
     "output_type": "stream",
     "text": [
      "Epoch 1, Loss: 114.4658\n"
     ]
    },
    {
     "name": "stderr",
     "output_type": "stream",
     "text": [
      "Epoch 2: 100%|██████████| 165/165 [00:04<00:00, 39.15it/s]\n"
     ]
    },
    {
     "name": "stdout",
     "output_type": "stream",
     "text": [
      "Epoch 2, Loss: 114.2007\n"
     ]
    },
    {
     "name": "stderr",
     "output_type": "stream",
     "text": [
      "Epoch 3: 100%|██████████| 165/165 [00:04<00:00, 35.52it/s]\n"
     ]
    },
    {
     "name": "stdout",
     "output_type": "stream",
     "text": [
      "Epoch 3, Loss: 113.6063\n"
     ]
    },
    {
     "name": "stderr",
     "output_type": "stream",
     "text": [
      "Epoch 4: 100%|██████████| 165/165 [00:04<00:00, 36.29it/s]\n"
     ]
    },
    {
     "name": "stdout",
     "output_type": "stream",
     "text": [
      "Epoch 4, Loss: 111.5075\n"
     ]
    },
    {
     "name": "stderr",
     "output_type": "stream",
     "text": [
      "Epoch 5: 100%|██████████| 165/165 [00:04<00:00, 38.67it/s]\n"
     ]
    },
    {
     "name": "stdout",
     "output_type": "stream",
     "text": [
      "Epoch 5, Loss: 106.7102\n",
      "为用户 100 推荐的商品：[np.int64(1272704), np.int64(1578482), np.int64(984545), np.int64(740947), np.int64(692135), np.int64(3839718), np.int64(1116492), np.int64(4940506), np.int64(593132), np.int64(4695988)]\n"
     ]
    }
   ],
   "source": [
    "# 推荐系统：基于 PyTorch 的神经协同过滤模型（NCF）\n",
    "\n",
    "import pandas as pd\n",
    "import torch\n",
    "import torch.nn as nn\n",
    "import torch.optim as optim\n",
    "from sklearn.model_selection import train_test_split\n",
    "from torch.utils.data import Dataset, DataLoader\n",
    "from tqdm import tqdm\n",
    "\n",
    "# 1. 读取数据\n",
    "df = pd.read_csv('filtered_data.csv')\n",
    "df = df[['user_id', 'item_id','category_id', 'behavior_type']]\n",
    "#df=df.head(10000000)  # 仅使用前1000万条数据进行测试\n",
    "\n",
    "# 2. 仅保留购买行为作为正样本\n",
    "df = df[df['behavior_type'] == 'buy']\n",
    "\n",
    "# 3. 去重 & 映射ID为连续索引\n",
    "df = df.drop_duplicates(['user_id', 'item_id'])\n",
    "\n",
    "user2idx = {uid: idx for idx, uid in enumerate(df['user_id'].unique())}\n",
    "item2idx = {iid: idx for idx, iid in enumerate(df['item_id'].unique())}\n",
    "\n",
    "df['user'] = df['user_id'].map(user2idx)\n",
    "df['item'] = df['item_id'].map(item2idx)\n",
    "\n",
    "# 4. 构造正负样本\n",
    "interactions = set(zip(df['user'], df['item']))\n",
    "all_users = list(user2idx.values())\n",
    "all_items = list(item2idx.values())\n",
    "\n",
    "import random\n",
    "neg_samples = []\n",
    "for u, i in interactions:\n",
    "    for _ in range(1):  # 每个正样本采样1个负样本\n",
    "        j = random.choice(all_items)\n",
    "        while (u, j) in interactions:\n",
    "            j = random.choice(all_items)\n",
    "        neg_samples.append([u, j, 0])  # label=0\n",
    "\n",
    "df_pos = df[['user', 'item']].copy()\n",
    "df_pos['label'] = 1\n",
    "df_neg = pd.DataFrame(neg_samples, columns=['user', 'item', 'label'])\n",
    "df_all = pd.concat([df_pos, df_neg], ignore_index=True)\n",
    "\n",
    "# 5. 构建Dataset和DataLoader\n",
    "class InteractionDataset(Dataset):\n",
    "    def __init__(self, df):\n",
    "        self.users = torch.tensor(df['user'].values, dtype=torch.long)\n",
    "        self.items = torch.tensor(df['item'].values, dtype=torch.long)\n",
    "        self.labels = torch.tensor(df['label'].values, dtype=torch.float32)\n",
    "\n",
    "    def __len__(self):\n",
    "        return len(self.users)\n",
    "\n",
    "    def __getitem__(self, idx):\n",
    "        return self.users[idx], self.items[idx], self.labels[idx]\n",
    "\n",
    "train_df, test_df = train_test_split(df_all, test_size=0.2, random_state=42)\n",
    "train_dataset = InteractionDataset(train_df)\n",
    "test_dataset = InteractionDataset(test_df)\n",
    "\n",
    "train_loader = DataLoader(train_dataset, batch_size=1024, shuffle=True)\n",
    "test_loader = DataLoader(test_dataset, batch_size=1024)\n",
    "\n",
    "# 6. 构建神经协同过滤模型（NCF）\n",
    "class NCF(nn.Module):\n",
    "    def __init__(self, num_users, num_items, embedding_dim=32):\n",
    "        super(NCF, self).__init__()\n",
    "        self.user_embedding = nn.Embedding(num_users, embedding_dim)\n",
    "        self.item_embedding = nn.Embedding(num_items, embedding_dim)\n",
    "\n",
    "        self.mlp = nn.Sequential(\n",
    "            nn.Linear(embedding_dim * 2, 128),\n",
    "            nn.ReLU(),\n",
    "            nn.Linear(128, 64),\n",
    "            nn.ReLU(),\n",
    "            nn.Linear(64, 1),\n",
    "            nn.Sigmoid()\n",
    "        )\n",
    "\n",
    "    def forward(self, user, item):\n",
    "        user_vec = self.user_embedding(user)\n",
    "        item_vec = self.item_embedding(item)\n",
    "        x = torch.cat([user_vec, item_vec], dim=-1)\n",
    "        return self.mlp(x).squeeze()\n",
    "\n",
    "# 7. 初始化模型\n",
    "device = torch.device(\"cuda\" if torch.cuda.is_available() else \"cpu\")\n",
    "model = NCF(len(user2idx), len(item2idx)).to(device)\n",
    "criterion = nn.BCELoss()\n",
    "optimizer = optim.Adam(model.parameters(), lr=0.001)\n",
    "\n",
    "# 8. 模型训练\n",
    "for epoch in range(5):\n",
    "    model.train()\n",
    "    total_loss = 0\n",
    "    for users, items, labels in tqdm(train_loader, desc=f'Epoch {epoch+1}'):\n",
    "        users, items, labels = users.to(device), items.to(device), labels.to(device)\n",
    "\n",
    "        optimizer.zero_grad()\n",
    "        outputs = model(users, items)\n",
    "        loss = criterion(outputs, labels)\n",
    "        loss.backward()\n",
    "        optimizer.step()\n",
    "        total_loss += loss.item()\n",
    "    print(f\"Epoch {epoch+1}, Loss: {total_loss:.4f}\")\n",
    "\n",
    "# 9. 推荐函数\n",
    "def recommend_top_k(model, user_id_raw, k=10):\n",
    "    user_id = user2idx.get(user_id_raw)\n",
    "    if user_id is None:\n",
    "        return []\n",
    "\n",
    "    user_tensor = torch.tensor([user_id] * len(item2idx), dtype=torch.long).to(device)\n",
    "    item_tensor = torch.tensor(list(item2idx.values()), dtype=torch.long).to(device)\n",
    "    model.eval()\n",
    "    with torch.no_grad():\n",
    "        scores = model(user_tensor, item_tensor).cpu().numpy()\n",
    "    top_items_idx = scores.argsort()[-k:][::-1]\n",
    "    top_item_ids = [list(item2idx.keys())[i] for i in top_items_idx]\n",
    "    return top_item_ids\n",
    "\n",
    "# 10. 示例推荐\n",
    "test_user_raw = df['user_id'].iloc[0]\n",
    "recommended_items = recommend_top_k(model, test_user_raw, k=10)\n",
    "print(f\"为用户 {test_user_raw} 推荐的商品：{recommended_items}\")\n"
   ]
  }
 ],
 "metadata": {
  "kernelspec": {
   "display_name": "Python 3",
   "language": "python",
   "name": "python3"
  },
  "language_info": {
   "codemirror_mode": {
    "name": "ipython",
    "version": 2
   },
   "file_extension": ".py",
   "mimetype": "text/x-python",
   "name": "python",
   "nbconvert_exporter": "python",
   "pygments_lexer": "ipython2",
   "version": "2.7.6"
  }
 },
 "nbformat": 4,
 "nbformat_minor": 5
}
